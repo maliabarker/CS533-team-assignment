{
 "cells": [
  {
   "cell_type": "markdown",
   "metadata": {},
   "source": [
    "# CS 533 Group Project\n",
    "Authors: Malia Barker, Atharva Pargaonkar, Jack Cunningham, Rubal Goyal, Shrutee Dwa"
   ]
  },
  {
   "cell_type": "markdown",
   "metadata": {},
   "source": [
    "## 🔷 Importing python tools and the data"
   ]
  },
  {
   "cell_type": "code",
   "execution_count": 1,
   "metadata": {
    "id": "qH-4ZijHy54C"
   },
   "outputs": [],
   "source": [
    "# Import the required tools and libraries\n",
    "# Numerical tools\n",
    "import pandas as pd\n",
    "import numpy as np\n",
    "# Plotting tools\n",
    "import matplotlib.pyplot as plt\n",
    "import seaborn as sns\n",
    "# Machine Learning Tools, Utilities, and Scoring Metrics\n",
    "from sklearn.preprocessing import LabelEncoder\n",
    "from sklearn.model_selection import train_test_split, StratifiedKFold, GridSearchCV, cross_val_score\n",
    "from sklearn.metrics import classification_report, confusion_matrix, accuracy_score, f1_score\n",
    "# Suite of Machine Learning Algorithms\n",
    "from sklearn.neighbors import KNeighborsClassifier\n",
    "from sklearn.tree import DecisionTreeClassifier\n",
    "from sklearn.naive_bayes import GaussianNB\n",
    "from sklearn.linear_model import LogisticRegression\n",
    "from sklearn.ensemble import RandomForestClassifier\n",
    "from sklearn.svm import SVC\n",
    "# Setup to Ignore Version Errors and Deprecations\n",
    "import warnings\n",
    "warnings.filterwarnings(\"ignore\")"
   ]
  },
  {
   "cell_type": "code",
   "execution_count": 2,
   "metadata": {
    "colab": {
     "base_uri": "https://localhost:8080/"
    },
    "id": "Hu9UjqVdzotb",
    "outputId": "ae6ff847-9023-4a70-e38d-73acbcfb88b0"
   },
   "outputs": [
    {
     "ename": "ModuleNotFoundError",
     "evalue": "No module named 'google'",
     "output_type": "error",
     "traceback": [
      "\u001b[0;31m---------------------------------------------------------------------------\u001b[0m",
      "\u001b[0;31mModuleNotFoundError\u001b[0m                       Traceback (most recent call last)",
      "Cell \u001b[0;32mIn[2], line 1\u001b[0m\n\u001b[0;32m----> 1\u001b[0m \u001b[38;5;28;01mfrom\u001b[39;00m \u001b[38;5;21;01mgoogle\u001b[39;00m\u001b[38;5;21;01m.\u001b[39;00m\u001b[38;5;21;01mcolab\u001b[39;00m \u001b[38;5;28;01mimport\u001b[39;00m drive\n\u001b[1;32m      2\u001b[0m drive\u001b[38;5;241m.\u001b[39mmount(\u001b[38;5;124m'\u001b[39m\u001b[38;5;124m/content/drive/\u001b[39m\u001b[38;5;124m'\u001b[39m)\n",
      "\u001b[0;31mModuleNotFoundError\u001b[0m: No module named 'google'"
     ]
    }
   ],
   "source": [
    "from google.colab import drive\n",
    "drive.mount('/content/drive/')"
   ]
  },
  {
   "cell_type": "code",
   "execution_count": null,
   "metadata": {
    "id": "QjgBssphz-DR"
   },
   "outputs": [],
   "source": [
    "path = \"/content/drive/MyDrive/IDS Team Project/\""
   ]
  },
  {
   "cell_type": "code",
   "execution_count": null,
   "metadata": {
    "colab": {
     "base_uri": "https://localhost:8080/"
    },
    "id": "D4loSwgGx4Vx",
    "outputId": "e5ac3343-e447-4733-c9e9-b74c748965db"
   },
   "outputs": [],
   "source": [
    "# Import the movies dataframe\n",
    "movies_df = pd.read_csv(path + 'movies.csv')\n",
    "movies_df.info()"
   ]
  },
  {
   "cell_type": "code",
   "execution_count": null,
   "metadata": {
    "colab": {
     "base_uri": "https://localhost:8080/"
    },
    "id": "RKO2MK5_yLMy",
    "outputId": "33b61e4d-dff4-4734-eb45-10b918c10454"
   },
   "outputs": [],
   "source": [
    "# Import the movies dataframe\n",
    "ratings_df = pd.read_csv(path + 'ratings.csv')\n",
    "ratings_df.info()"
   ]
  },
  {
   "cell_type": "code",
   "execution_count": null,
   "metadata": {
    "colab": {
     "base_uri": "https://localhost:8080/"
    },
    "id": "ezj6VRK_yOE9",
    "outputId": "fb2f98e2-5a64-4ee3-a4e3-87cfcbf6da88"
   },
   "outputs": [],
   "source": [
    "# Import the movies dataframe\n",
    "tags_df = pd.read_csv(path + 'tags.csv')\n",
    "tags_df.info()"
   ]
  },
  {
   "cell_type": "markdown",
   "metadata": {},
   "source": [
    "## Preprocessing"
   ]
  },
  {
   "cell_type": "markdown",
   "metadata": {},
   "source": [
    "### 🔹 Merging Ratings with Tags"
   ]
  },
  {
   "cell_type": "markdown",
   "metadata": {},
   "source": [
    "🔹 First, let's look at merging the ratings and the tags datasets."
   ]
  },
  {
   "cell_type": "code",
   "execution_count": null,
   "metadata": {
    "id": "SltARLaj0e68"
   },
   "outputs": [],
   "source": [
    "# Combine ratings and tags on 'userId' and 'movieId' using a left join\n",
    "ratings_and_tags = pd.merge(ratings_df, tags_df, on=['userId', 'movieId'], how='left')"
   ]
  },
  {
   "cell_type": "markdown",
   "metadata": {},
   "source": [
    "### Helper Function"
   ]
  },
  {
   "cell_type": "code",
   "execution_count": null,
   "metadata": {
    "id": "sp0DaB23yern"
   },
   "outputs": [],
   "source": [
    "def get_ratings_stats(df):\n",
    "    stats = df.groupby('movieId')['rating'].agg(['mean', 'median', 'min', 'max', 'std', 'var', 'count']).reset_index()\n",
    "    stats['q25'] = df.groupby('movieId')['rating'].quantile(0.25).reset_index()['rating']\n",
    "    stats['q50'] = df.groupby('movieId')['rating'].quantile(0.50).reset_index()['rating']\n",
    "    stats['q75'] = df.groupby('movieId')['rating'].quantile(0.75).reset_index()['rating']\n",
    "    stats['mode'] = df.groupby('movieId')['rating'].agg(lambda x: x.mode().iat[0]).reset_index()['rating']\n",
    "    rename_cols_dict = {}\n",
    "    for col in stats.columns:\n",
    "        if col != 'movieId':\n",
    "            new_col_name = 'ratings_' + str(col)\n",
    "            rename_cols_dict[col] = new_col_name\n",
    "    stats = stats.rename(columns=rename_cols_dict)\n",
    "    movie_stats = pd.merge(movies_df, stats, on=\"movieId\", how=\"inner\")\n",
    "    return movie_stats"
   ]
  },
  {
   "cell_type": "code",
   "execution_count": null,
   "metadata": {
    "colab": {
     "base_uri": "https://localhost:8080/"
    },
    "id": "kKgYb-XD0sHv",
    "outputId": "c839a3d8-f913-4bd0-9d77-39173ebafc42"
   },
   "outputs": [],
   "source": [
    "# Check the dataset statistics\n",
    "print(f'The ratings dataset has {ratings_df.shape[0]} total ratings')\n",
    "print(f'The tags dataset has {tags_df.shape[0]} total tags')\n",
    "print(f'In the ratings dataset, there are {len(ratings_df[\"movieId\"].unique())} unique movies')\n",
    "print(f\"In the tags dataset, there are {len(tags_df['movieId'].unique())} unique movies\")\n",
    "print(f\"When combining the ratings and tags datasets, there are {ratings_and_tags['tag'].isna().sum()} ratings that do not have any tags (are NaN)\")"
   ]
  },
  {
   "cell_type": "markdown",
   "metadata": {
    "id": "5FfGY2JlylF8"
   },
   "source": [
    "There are a lot less tags than there are actual ratings, so there is a high number of null values in this dataset. Combining the tags and ratings like this, resulting in such a large number of columns and ultimately making it so the models will run very slow is probably not ideal. We will emit the ratings that do not have tags to cut down on our data size. Running models with 25 million instances is lengthy and not in scope for our project. By removing rating instances without tags, we cut our data from 25 million ratings to about a million ratings (834,730 instances, exactly).\n",
    "\n",
    "We explore the effects of removing these instances on the overall statistics of the ratings by movie below."
   ]
  },
  {
   "cell_type": "markdown",
   "metadata": {
    "id": "ZN28K1xfynmY"
   },
   "source": [
    "## Null Value Imputation"
   ]
  },
  {
   "cell_type": "markdown",
   "metadata": {
    "id": "x5WgVjd9yuXi"
   },
   "source": [
    "Group by movieID to get stats by movie for three filtered datasets: all ratings, ratings with no null tags included, ratings with ONLY null tags."
   ]
  },
  {
   "cell_type": "code",
   "execution_count": null,
   "metadata": {
    "colab": {
     "base_uri": "https://localhost:8080/"
    },
    "id": "h_9yREdeyyUA",
    "outputId": "e6832f35-df9d-4fe1-dec5-ea705b38cc12"
   },
   "outputs": [],
   "source": [
    "print(f'There are {ratings_and_tags.shape[0]} total ratings.')\n",
    "movies_stats_all = get_ratings_stats(ratings_and_tags)"
   ]
  },
  {
   "cell_type": "code",
   "execution_count": null,
   "metadata": {
    "colab": {
     "base_uri": "https://localhost:8080/"
    },
    "id": "_UD1wHqry_7r",
    "outputId": "3819d715-f307-4114-8cad-bb947f66dcd7"
   },
   "outputs": [],
   "source": [
    "# ratings_nonull_tags = ratings_df.dropna()\n",
    "ratings_nonull_tags = ratings_and_tags.dropna()\n",
    "print(f'There are {ratings_nonull_tags.shape[0]} ratings that have tags.')\n",
    "movies_stats_nonull = get_ratings_stats(ratings_nonull_tags)"
   ]
  },
  {
   "cell_type": "code",
   "execution_count": null,
   "metadata": {
    "colab": {
     "base_uri": "https://localhost:8080/"
    },
    "id": "-CGnHkvHzAin",
    "outputId": "d7862d38-7433-4e4c-f8d1-6d4520d5eb89"
   },
   "outputs": [],
   "source": [
    "# ratings_null_tags = ratings_df[ratings_df['tag'].isna()]\n",
    "ratings_null_tags = ratings_and_tags[ratings_and_tags['tag'].isna()]\n",
    "print(f'There are {ratings_null_tags.shape[0]} ratings that do not have tags.')\n",
    "movies_stats_onlynull = get_ratings_stats(ratings_null_tags)"
   ]
  },
  {
   "cell_type": "code",
   "execution_count": null,
   "metadata": {
    "colab": {
     "base_uri": "https://localhost:8080/"
    },
    "id": "_p3RsrAgzB8G",
    "outputId": "1494c7ff-f8e9-45cf-87ff-2cda505e6721"
   },
   "outputs": [],
   "source": [
    "print(f'There are {movies_stats_all.shape[0]} movies in the dataset that include ratings with BOTH null and non-null tags.')\n",
    "print(f'There are {movies_stats_nonull.shape[0]} movies in the dataset that only include ratings WITH tags.')\n",
    "print(f'There are {movies_stats_onlynull.shape[0]} movies in the dataset that only include ratings WITHOUT tags.')"
   ]
  },
  {
   "cell_type": "markdown",
   "metadata": {},
   "source": [
    "🔹 And now we want to compare the distributions of each rating statistic between the dataset with all ratings, the dataset with only ratings with null tags included, and the dataset with only ratings with null tags dropped."
   ]
  },
  {
   "cell_type": "code",
   "execution_count": null,
   "metadata": {
    "id": "OjVtfsq0zDjF"
   },
   "outputs": [],
   "source": [
    "all_cols = ['ratings_mean', 'ratings_median', 'ratings_mode', 'ratings_q25', 'ratings_q50', 'ratings_q75', 'ratings_min', 'ratings_max', 'ratings_count', 'ratings_std', 'ratings_var']"
   ]
  },
  {
   "cell_type": "code",
   "execution_count": null,
   "metadata": {
    "colab": {
     "base_uri": "https://localhost:8080/",
     "height": 1000
    },
    "id": "uP3ebCXEzF5z",
    "outputId": "4b2bf2b6-3507-48a4-c593-0674f2c4bd4c"
   },
   "outputs": [],
   "source": [
    "for col in all_cols:\n",
    "    fig, (ax1, ax2, ax3) = plt.subplots(1, 3, figsize=(15, 6))\n",
    "    null = movies_stats_all[col]\n",
    "    nonull = movies_stats_nonull[col]\n",
    "    onlynull = movies_stats_onlynull[col]\n",
    "    ax1.hist(null, color='blue')\n",
    "    ax1.set_title(f'Distribution of all {col}')\n",
    "\n",
    "    ax2.hist(nonull, color='red')\n",
    "    ax2.set_title(f'Distribution of {col} with null tags dropped')\n",
    "\n",
    "    ax3.hist(onlynull, color='green')\n",
    "    ax3.set_title(f'Distribution of {col} with only null tags')"
   ]
  },
  {
   "cell_type": "code",
   "execution_count": null,
   "metadata": {
    "colab": {
     "base_uri": "https://localhost:8080/"
    },
    "id": "I9yUsSbYzTVd",
    "outputId": "041d8077-68c5-4db7-9c89-23a0a3751288"
   },
   "outputs": [],
   "source": [
    "print(movies_stats_all['ratings_mean'].mean())\n",
    "print(movies_stats_nonull['ratings_mean'].mean())\n",
    "print(movies_stats_onlynull['ratings_mean'].mean())"
   ]
  },
  {
   "cell_type": "markdown",
   "metadata": {
    "id": "CQZbm6oUzbNo"
   },
   "source": [
    "We can see that the dataset that includes ONLY null tags is large and represents the majority of the dataset. Each distribution of the only null data statistics looks pretty much the same as the dataset with all instances. Because of the large amount of instances without tags, we would predict that removing these instances would affect the distributions above. While thankfully some distributions look very similar—including variation, standard deviation, mean, count, and q75—some look VERY different. The minimum statistic is included in this.\n",
    "\n",
    "While the minimum is still between 1 and 5, the highest occurence of min is about 3 for the null tag dropped dataset while the other datasets have a much greater occurence of 1 for min. So, we can assume that many movies with just one rating did not have tags and therefore were dropped. From this, we can also make the assumption that the more popular a movie is (the more ratings it has), the more likely it is to have a tag included. We could also assume that if the non-null dataset includes more popular movies, then the overall mean is higher in the non-null dataset. This assumption is true. The dataset with null tags dropped has a mean rating statistic of 3.3 while the other two datasets have a mean rating statistic of 3.1.\n",
    "\n",
    "We need to keep in mind when we discuss our results that the dataset we are using has more popular and highly rated movies than the overall dataset. There can be two effects in our binary classification:\n",
    "    1. This may skew our binary classification to predict a movie is 'good' (above the overall mean) because there are more instances with high ratings values.\n",
    "    2. This may skew our binary classification to predict a movie is 'bad' (below the overall mean) because the overall mean for a movie is higher due to more positive ratings.\n",
    "\n",
    "However, if the movies that were dropped are most likely to only have one rating, then binary classification would be obsolete because the mean would be the same as the instance.\n",
    "\n",
    "Overall, it is important in the overall statistics to remember that many of the dropped movies had one rating. We will investigate further how dropping these movies affect our results."
   ]
  },
  {
   "cell_type": "markdown",
   "metadata": {},
   "source": [
    "### 🔷 Merging Ratings with Movies"
   ]
  },
  {
   "cell_type": "markdown",
   "metadata": {
    "id": "lwiMnsoG0-6f"
   },
   "source": [
    "Finally, we want to merge our ratings dataset (that has null tags dropped) with the movies dataset. We want each instance of movieID to also include movie title and movie genres. We will merge on the ratings dataset so that we retain each instance of rating and just add the movie data to each rating instance. The resulting dataset will have the same shape as the ratings dataset with null tags dropped.\n",
    "\n",
    "We also will drop the timestamp column from ratings. We will not be doing any sort of time series analysis, so this column is obsolete to our classification."
   ]
  },
  {
   "cell_type": "code",
   "execution_count": null,
   "metadata": {
    "colab": {
     "base_uri": "https://localhost:8080/",
     "height": 206
    },
    "id": "7LoAPbsEzXS-",
    "outputId": "b14e147a-31c8-4601-d08b-d5483ace0d98"
   },
   "outputs": [],
   "source": [
    "ratings_non_null_tags = ratings_and_tags.dropna()\n",
    "ml_dataset = pd.merge(ratings_non_null_tags, movies_df, on='movieId', how='left')\n",
    "ml_dataset.drop(columns=['timestamp_x', 'timestamp_y'], inplace=True)\n",
    "ml_dataset.head()"
   ]
  },
  {
   "cell_type": "markdown",
   "metadata": {},
   "source": [
    "### Null Value Check"
   ]
  },
  {
   "cell_type": "code",
   "execution_count": null,
   "metadata": {
    "colab": {
     "base_uri": "https://localhost:8080/"
    },
    "id": "-wUod53B0_4P",
    "outputId": "9bb88b41-d68c-44f1-f893-8e8c2bdf4d88"
   },
   "outputs": [],
   "source": [
    "ml_dataset.isna().sum()"
   ]
  },
  {
   "cell_type": "markdown",
   "metadata": {
    "id": "wpx4KcRA1EKq"
   },
   "source": [
    "## Encoding Labels"
   ]
  },
  {
   "cell_type": "markdown",
   "metadata": {},
   "source": [
    "For many of our models we are using, we need to encode our labels from strings to numbers. We can use the scikit learn LabelEncoder for this. The columns that need to be encoded include tag, title, and genres."
   ]
  },
  {
   "cell_type": "code",
   "execution_count": null,
   "metadata": {
    "id": "A7EaoLCg1CJV"
   },
   "outputs": [],
   "source": [
    "labels_to_encode = ['tag', 'title', 'genres']\n",
    "labelencoder = LabelEncoder()\n",
    "for label in labels_to_encode:\n",
    "    try:\n",
    "        ml_dataset[label] = labelencoder.fit_transform(ml_dataset[label])\n",
    "    except:\n",
    "        pass"
   ]
  },
  {
   "cell_type": "code",
   "execution_count": null,
   "metadata": {
    "colab": {
     "base_uri": "https://localhost:8080/",
     "height": 206
    },
    "id": "Dy-odtEQ1HAH",
    "outputId": "3712086b-1ccc-4b33-caa8-16e678e51743"
   },
   "outputs": [],
   "source": [
    "ml_dataset.head()"
   ]
  },
  {
   "cell_type": "markdown",
   "metadata": {
    "id": "ayMTrmr01Mv5"
   },
   "source": [
    "## Enumerating Ratings"
   ]
  },
  {
   "cell_type": "markdown",
   "metadata": {},
   "source": [
    "Now, we want to assign each rating a number: 0 if the rating is less than the mean value for that movie OR 1 if the ratings is greater than or equal to the mean value for that movie.\n",
    "\n",
    "We will group the ratings by movie, calculate the mean rating for each movie, and add a new column 'movie_rating_mean' to each rating instance. Then, we can go through each rating instance and enumerate its rating based on the movie_rating_mean column."
   ]
  },
  {
   "cell_type": "code",
   "execution_count": null,
   "metadata": {
    "id": "wSuasSQG1J27"
   },
   "outputs": [],
   "source": [
    "# Get mean rating of each movie\n",
    "movie_means = ml_dataset.groupby('movieId')['rating'].agg(['mean'])\n",
    "# Round to 1 decimal to match existing ratings\n",
    "movie_means['mean'] = movie_means['mean'].round(1)\n",
    "# Change name of mean column\n",
    "movie_means = movie_means.rename(columns={'mean': 'movie_rating_mean'}).reset_index()"
   ]
  },
  {
   "cell_type": "code",
   "execution_count": null,
   "metadata": {
    "colab": {
     "base_uri": "https://localhost:8080/",
     "height": 206
    },
    "id": "YT13LcaH1QKi",
    "outputId": "19b8cb9f-0a7e-453f-c81d-0c3ba089ec31"
   },
   "outputs": [],
   "source": [
    "# Add means to ml_dataset on movieId\n",
    "ml_dataset = pd.merge(ml_dataset, movie_means, on='movieId', how='left')\n",
    "ml_dataset.head()"
   ]
  },
  {
   "cell_type": "code",
   "execution_count": null,
   "metadata": {
    "colab": {
     "base_uri": "https://localhost:8080/",
     "height": 423
    },
    "id": "2lYA5mYF1Rrp",
    "outputId": "6c1844ae-0adc-494b-8973-5a826d18d136"
   },
   "outputs": [],
   "source": [
    "# Add enumerated rating for each row\n",
    "ml_dataset['rating_enum'] = np.where(ml_dataset['rating'] < ml_dataset['movie_rating_mean'], 0, 1)\n",
    "ml_dataset"
   ]
  },
  {
   "cell_type": "markdown",
   "metadata": {},
   "source": [
    "### Let's look at the distribution of 'good' and 'bad' ratings."
   ]
  },
  {
   "cell_type": "code",
   "execution_count": null,
   "metadata": {
    "colab": {
     "base_uri": "https://localhost:8080/",
     "height": 428
    },
    "id": "4DuEiav21VPg",
    "outputId": "6a0053e1-fd71-44c8-c62e-017fd6b8cf35"
   },
   "outputs": [],
   "source": [
    "labels = ['good', 'bad']\n",
    "sizes = ml_dataset['rating_enum'].value_counts()\n",
    "plt.pie(sizes, labels=labels, autopct='%1.1f%%')\n",
    "plt.title(\"Amount of 'good' (value of 1) and 'bad' (value of 0) ratings\")\n",
    "plt.show()"
   ]
  },
  {
   "cell_type": "markdown",
   "metadata": {},
   "source": [
    "Our dataset is now combined, cleaned, and ready for analysis."
   ]
  },
  {
   "cell_type": "code",
   "execution_count": null,
   "metadata": {
    "colab": {
     "base_uri": "https://localhost:8080/",
     "height": 526
    },
    "id": "uajDQh9J1W3R",
    "outputId": "8c1a0868-c2be-4f1b-d107-f5d2dc3a505c"
   },
   "outputs": [],
   "source": [
    "sns.heatmap(ml_dataset.drop(columns=['rating', 'movie_rating_mean']).corr(), annot=True, cmap=\"RdYlGn\")"
   ]
  },
  {
   "cell_type": "markdown",
   "metadata": {
    "id": "TJYPkUm61auY"
   },
   "source": [
    "## Splitting the Data"
   ]
  },
  {
   "cell_type": "markdown",
   "metadata": {
    "id": "-hmzOeBF1gRT"
   },
   "source": [
    "We will split our data in two ways:\n",
    "\n",
    "1. Training, testing, and validation splits. We are splitting into these three categories because we are running multiple models. For each model, we will run the testing dataset to test as we perform hyperparameter tuning. Once all models are done, we will run each one with the validation data. This way, we are fairly analyzing each model and making sure the hyperparameter tuning is not showing scores that are overfit to the testing data.\n",
    "2. X and Y splits. We will isolate our target, which is the rating_enum column, and our descriptive data. We will not include the rating and movie_rating_mean columns as they were just placeholders to calculate our rating_enum column."
   ]
  },
  {
   "cell_type": "code",
   "execution_count": null,
   "metadata": {
    "id": "AlsrRFYp1Yq7"
   },
   "outputs": [],
   "source": [
    "# Assign the target and features\n",
    "TARGET = ['rating_enum']\n",
    "TO_DROP = ['rating_enum', 'rating', 'movie_rating_mean']\n",
    "X, y = ml_dataset.drop(columns=TO_DROP, axis=1), ml_dataset[TARGET]"
   ]
  },
  {
   "cell_type": "code",
   "execution_count": null,
   "metadata": {
    "id": "XmPlORWI1kMU"
   },
   "outputs": [],
   "source": [
    "# Split your data into training and temporary data (used for individual testing)\n",
    "X_train, X_temp, y_train, y_temp = train_test_split(X, y, test_size=0.3, random_state=42)\n",
    "\n",
    "# Split the temporary data into testing and validation data (for final tests)\n",
    "X_test, X_val, y_test, y_val = train_test_split(X_temp, y_temp, test_size=0.5, random_state=42)"
   ]
  },
  {
   "cell_type": "markdown",
   "metadata": {},
   "source": [
    "- The train_test_split() function from scikit-learn is used to split the data into training and temporary sets.\n",
    "- test_size=0.3 specifies that 30% of the data should be allocated to the temporary set, while the remaining 70% goes to the training set.\n",
    "- X_temp and y_temp are passed as input, representing the features and target variable from the temporary set.\n",
    "- test_size=0.5 specifies that the temporary set should be divided equally into testing and validation sets, each with 50% of the data.\n",
    "\n"
   ]
  },
  {
   "cell_type": "markdown",
   "metadata": {},
   "source": [
    "### Using Gaussian Naive Bayes Classifier"
   ]
  },
  {
   "cell_type": "markdown",
   "metadata": {},
   "source": [
    "Implementation using no hyperparameter tuning"
   ]
  },
  {
   "cell_type": "markdown",
   "metadata": {},
   "source": [
    "We Import the GaussianNB class from scikit-learn and then create an instance of the GaussianNB model"
   ]
  },
  {
   "cell_type": "code",
   "execution_count": 28,
   "metadata": {
    "colab": {
     "base_uri": "https://localhost:8080/",
     "height": 74
    },
    "id": "b3gmNAhp1laf",
    "outputId": "f2bd3fdb-e868-4f1c-da8a-287669c934a7"
   },
   "outputs": [
    {
     "data": {
      "text/html": [
       "<style>#sk-container-id-1 {color: black;background-color: white;}#sk-container-id-1 pre{padding: 0;}#sk-container-id-1 div.sk-toggleable {background-color: white;}#sk-container-id-1 label.sk-toggleable__label {cursor: pointer;display: block;width: 100%;margin-bottom: 0;padding: 0.3em;box-sizing: border-box;text-align: center;}#sk-container-id-1 label.sk-toggleable__label-arrow:before {content: \"▸\";float: left;margin-right: 0.25em;color: #696969;}#sk-container-id-1 label.sk-toggleable__label-arrow:hover:before {color: black;}#sk-container-id-1 div.sk-estimator:hover label.sk-toggleable__label-arrow:before {color: black;}#sk-container-id-1 div.sk-toggleable__content {max-height: 0;max-width: 0;overflow: hidden;text-align: left;background-color: #f0f8ff;}#sk-container-id-1 div.sk-toggleable__content pre {margin: 0.2em;color: black;border-radius: 0.25em;background-color: #f0f8ff;}#sk-container-id-1 input.sk-toggleable__control:checked~div.sk-toggleable__content {max-height: 200px;max-width: 100%;overflow: auto;}#sk-container-id-1 input.sk-toggleable__control:checked~label.sk-toggleable__label-arrow:before {content: \"▾\";}#sk-container-id-1 div.sk-estimator input.sk-toggleable__control:checked~label.sk-toggleable__label {background-color: #d4ebff;}#sk-container-id-1 div.sk-label input.sk-toggleable__control:checked~label.sk-toggleable__label {background-color: #d4ebff;}#sk-container-id-1 input.sk-hidden--visually {border: 0;clip: rect(1px 1px 1px 1px);clip: rect(1px, 1px, 1px, 1px);height: 1px;margin: -1px;overflow: hidden;padding: 0;position: absolute;width: 1px;}#sk-container-id-1 div.sk-estimator {font-family: monospace;background-color: #f0f8ff;border: 1px dotted black;border-radius: 0.25em;box-sizing: border-box;margin-bottom: 0.5em;}#sk-container-id-1 div.sk-estimator:hover {background-color: #d4ebff;}#sk-container-id-1 div.sk-parallel-item::after {content: \"\";width: 100%;border-bottom: 1px solid gray;flex-grow: 1;}#sk-container-id-1 div.sk-label:hover label.sk-toggleable__label {background-color: #d4ebff;}#sk-container-id-1 div.sk-serial::before {content: \"\";position: absolute;border-left: 1px solid gray;box-sizing: border-box;top: 0;bottom: 0;left: 50%;z-index: 0;}#sk-container-id-1 div.sk-serial {display: flex;flex-direction: column;align-items: center;background-color: white;padding-right: 0.2em;padding-left: 0.2em;position: relative;}#sk-container-id-1 div.sk-item {position: relative;z-index: 1;}#sk-container-id-1 div.sk-parallel {display: flex;align-items: stretch;justify-content: center;background-color: white;position: relative;}#sk-container-id-1 div.sk-item::before, #sk-container-id-1 div.sk-parallel-item::before {content: \"\";position: absolute;border-left: 1px solid gray;box-sizing: border-box;top: 0;bottom: 0;left: 50%;z-index: -1;}#sk-container-id-1 div.sk-parallel-item {display: flex;flex-direction: column;z-index: 1;position: relative;background-color: white;}#sk-container-id-1 div.sk-parallel-item:first-child::after {align-self: flex-end;width: 50%;}#sk-container-id-1 div.sk-parallel-item:last-child::after {align-self: flex-start;width: 50%;}#sk-container-id-1 div.sk-parallel-item:only-child::after {width: 0;}#sk-container-id-1 div.sk-dashed-wrapped {border: 1px dashed gray;margin: 0 0.4em 0.5em 0.4em;box-sizing: border-box;padding-bottom: 0.4em;background-color: white;}#sk-container-id-1 div.sk-label label {font-family: monospace;font-weight: bold;display: inline-block;line-height: 1.2em;}#sk-container-id-1 div.sk-label-container {text-align: center;}#sk-container-id-1 div.sk-container {/* jupyter's `normalize.less` sets `[hidden] { display: none; }` but bootstrap.min.css set `[hidden] { display: none !important; }` so we also need the `!important` here to be able to override the default hidden behavior on the sphinx rendered scikit-learn.org. See: https://github.com/scikit-learn/scikit-learn/issues/21755 */display: inline-block !important;position: relative;}#sk-container-id-1 div.sk-text-repr-fallback {display: none;}</style><div id=\"sk-container-id-1\" class=\"sk-top-container\"><div class=\"sk-text-repr-fallback\"><pre>GaussianNB()</pre><b>In a Jupyter environment, please rerun this cell to show the HTML representation or trust the notebook. <br />On GitHub, the HTML representation is unable to render, please try loading this page with nbviewer.org.</b></div><div class=\"sk-container\" hidden><div class=\"sk-item\"><div class=\"sk-estimator sk-toggleable\"><input class=\"sk-toggleable__control sk-hidden--visually\" id=\"sk-estimator-id-1\" type=\"checkbox\" checked><label for=\"sk-estimator-id-1\" class=\"sk-toggleable__label sk-toggleable__label-arrow\">GaussianNB</label><div class=\"sk-toggleable__content\"><pre>GaussianNB()</pre></div></div></div></div></div>"
      ],
      "text/plain": [
       "GaussianNB()"
      ]
     },
     "execution_count": 28,
     "metadata": {},
     "output_type": "execute_result"
    }
   ],
   "source": [
    "# Import GaussianNB from scikit-learn\n",
    "from sklearn.naive_bayes import GaussianNB\n",
    "\n",
    "# Instantiate GNB model\n",
    "gnb_no_tune = GaussianNB()\n",
    "\n",
    "# Fit GNB model to training data\n",
    "gnb_no_tune.fit(X_train, y_train)"
   ]
  },
  {
   "cell_type": "markdown",
   "metadata": {},
   "source": [
    "We will be using the trained GNB model to make predictions on the testing set"
   ]
  },
  {
   "cell_type": "code",
   "execution_count": 29,
   "metadata": {
    "colab": {
     "base_uri": "https://localhost:8080/"
    },
    "id": "kqtmsK-01neb",
    "outputId": "7d4581d0-92ec-4c5a-9acb-7cb50e56fc4c"
   },
   "outputs": [
    {
     "name": "stdout",
     "output_type": "stream",
     "text": [
      "Accuracy: 0.5993099537573178\n",
      "Precision: 0.5993099537573178\n",
      "Recall: 1.0\n",
      "F1-score: 0.7494606687707243\n"
     ]
    }
   ],
   "source": [
    "# Make predictions on testing data\n",
    "y_pred = gnb_no_tune.predict(X_test)\n",
    "\n",
    "# Evaluate model performance using accuracy, precision, recall, and F1-score\n",
    "from sklearn.metrics import accuracy_score, precision_score, recall_score, f1_score\n",
    "\n",
    "no_tune_accuracy = accuracy_score(y_test, y_pred)\n",
    "no_tune_precision = precision_score(y_test, y_pred)\n",
    "no_tune_recall = recall_score(y_test, y_pred)\n",
    "no_tune_f1 = f1_score(y_test, y_pred)\n",
    "\n",
    "print(\"Accuracy:\", no_tune_accuracy)\n",
    "print(\"Precision:\", no_tune_precision)\n",
    "print(\"Recall:\", no_tune_recall)\n",
    "print(\"F1-score:\", no_tune_f1)"
   ]
  },
  {
   "cell_type": "code",
   "execution_count": 30,
   "metadata": {
    "colab": {
     "base_uri": "https://localhost:8080/"
    },
    "id": "3FTHWoWT1pRP",
    "outputId": "c95fc79d-507b-4311-fc25-d215f0def2c1"
   },
   "outputs": [
    {
     "name": "stdout",
     "output_type": "stream",
     "text": [
      "[[    0 50170]\n",
      " [    0 75039]]\n"
     ]
    }
   ],
   "source": [
    "# Import confusion_matrix from scikit-learn\n",
    "from sklearn.metrics import confusion_matrix\n",
    "\n",
    "# Generate confusion matrix\n",
    "cm = confusion_matrix(y_test, y_pred)\n",
    "\n",
    "# Display confusion matrix\n",
    "print(cm)"
   ]
  },
  {
   "cell_type": "code",
   "execution_count": 31,
   "metadata": {
    "colab": {
     "base_uri": "https://localhost:8080/"
    },
    "id": "C1dJalHQ1rVf",
    "outputId": "538e38e4-529e-47a4-b079-8aa1acaaec48"
   },
   "outputs": [
    {
     "name": "stdout",
     "output_type": "stream",
     "text": [
      "Classification Report:\n",
      "              precision    recall  f1-score   support\n",
      "\n",
      "           0       0.00      0.00      0.00     50170\n",
      "           1       0.60      1.00      0.75     75039\n",
      "\n",
      "    accuracy                           0.60    125209\n",
      "   macro avg       0.30      0.50      0.37    125209\n",
      "weighted avg       0.36      0.60      0.45    125209\n",
      "\n"
     ]
    }
   ],
   "source": [
    "#Classification Report\n",
    "class_report = classification_report(y_test, y_pred)\n",
    "print(\"Classification Report:\")\n",
    "print(class_report)"
   ]
  },
  {
   "cell_type": "code",
   "execution_count": 32,
   "metadata": {
    "colab": {
     "base_uri": "https://localhost:8080/",
     "height": 452
    },
    "id": "9j0nNM5S1tFm",
    "outputId": "f67c8b04-9696-40a3-c49c-f496531a5744"
   },
   "outputs": [
    {
     "data": {
      "image/png": "[encoded data removed]",
      "text/plain": [
       "<Figure size 640x480 with 2 Axes>"
      ]
     },
     "metadata": {},
     "output_type": "display_data"
    }
   ],
   "source": [
    "# Create heatmap using Seaborn\n",
    "sns.heatmap(cm, annot=True, fmt='d', cmap='Blues')\n",
    "plt.title('Confusion Matrix')\n",
    "plt.show()"
   ]
  },
  {
   "cell_type": "markdown",
   "metadata": {
    "id": "BxqmyCBw1wdc"
   },
   "source": [
    "## Hyperparameter Tuning"
   ]
  },
  {
   "cell_type": "markdown",
   "metadata": {},
   "source": [
    "- A hyperparameter grid with different values for the var_smoothing parameter is defined, which controls the additive smoothing applied to variances during probability estimation. \n",
    "- The GridSearchCV object is created using the GNB model, hyperparameter grid, and 'accuracy' as the evaluation metric. \n",
    "- The cv=5 parameter specifies 5-fold cross-validation for more robust evaluation."
   ]
  },
  {
   "cell_type": "code",
   "execution_count": 33,
   "metadata": {
    "colab": {
     "base_uri": "https://localhost:8080/"
    },
    "id": "67MPV3pw1urG",
    "outputId": "d71342e7-4386-4402-d784-f7409509ea69"
   },
   "outputs": [
    {
     "name": "stdout",
     "output_type": "stream",
     "text": [
      "Best hyperparameters: {'var_smoothing': 1e-09}\n",
      "Best model accuracy on training set: 0.5994650109274\n"
     ]
    }
   ],
   "source": [
    "from sklearn.model_selection import GridSearchCV\n",
    "\n",
    "# Define hyperparameter grid\n",
    "param_grid = {'var_smoothing': [1e-9, 1e-8, 1e-7]}\n",
    "\n",
    "# Create GridSearchCV object\n",
    "grid_search = GridSearchCV(estimator=GaussianNB(), param_grid=param_grid, scoring='accuracy', cv=5)\n",
    "\n",
    "# Perform hyperparameter tuning\n",
    "grid_search.fit(X_train, y_train)\n",
    "\n",
    "# Get best hyperparameters and model\n",
    "best_params = grid_search.best_params_\n",
    "best_model = grid_search.best_estimator_\n",
    "\n",
    "print(\"Best hyperparameters:\", best_params)\n",
    "print(\"Best model accuracy on training set:\", best_model.score(X_train, y_train))\n"
   ]
  },
  {
   "cell_type": "code",
   "execution_count": 34,
   "metadata": {
    "colab": {
     "base_uri": "https://localhost:8080/"
    },
    "id": "vEWqaEBX14yP",
    "outputId": "6f02e7b6-aca1-4412-ba11-179eb0042e02"
   },
   "outputs": [
    {
     "name": "stdout",
     "output_type": "stream",
     "text": [
      "No Tune Accuracy:  0.5993099537573178\n",
      "After Tune Accuracy 0.5994650109274\n",
      "Change in Accuracy:  0.00015505717008224007\n"
     ]
    }
   ],
   "source": [
    "print(\"No Tune Accuracy: \", no_tune_accuracy)\n",
    "print(\"After Tune Accuracy\", best_model.score(X_train, y_train))\n",
    "\n",
    "print(\"Change in Accuracy: \", best_model.score(X_train, y_train) - no_tune_accuracy)"
   ]
  },
  {
   "cell_type": "code",
   "execution_count": 35,
   "metadata": {
    "id": "Mw9BsjxQ16rH"
   },
   "outputs": [],
   "source": [
    "after_tune_accuracy = best_model.score(X_train, y_train)"
   ]
  },
  {
   "cell_type": "markdown",
   "metadata": {},
   "source": [
    "Comparing the model accuraccies before and after hyperparameter tuning"
   ]
  },
  {
   "cell_type": "code",
   "execution_count": 36,
   "metadata": {
    "colab": {
     "base_uri": "https://localhost:8080/",
     "height": 452
    },
    "id": "uZ3UxKFM18lL",
    "outputId": "bbe0eea7-8328-4926-ec14-3f15e9c209df"
   },
   "outputs": [
    {
     "data": {
      "image/png": "[encoded data removed]",
      "text/plain": [
       "<Figure size 640x480 with 1 Axes>"
      ]
     },
     "metadata": {},
     "output_type": "display_data"
    }
   ],
   "source": [
    "# Prepare accuracy data\n",
    "accuracies = [no_tune_accuracy, after_tune_accuracy]\n",
    "labels = ['Original Model', 'Tuned Model']\n",
    "\n",
    "# Create bar chart\n",
    "plt.bar(labels, accuracies)\n",
    "plt.title('Model Accuracies')\n",
    "plt.ylabel('Accuracy')\n",
    "\n",
    "# Set y-axis limits to focus on the range of accuracies\n",
    "plt.ylim(min(accuracies) - 0.0001, max(accuracies) + 0.001)\n",
    "\n",
    "plt.show()"
   ]
  },
  {
   "cell_type": "markdown",
   "metadata": {
    "id": "3aC6R7lE3yXi"
   },
   "source": [
    "## Neural Network"
   ]
  },
  {
   "cell_type": "markdown",
   "metadata": {},
   "source": [
    "- A sequential neural network is defined with two hidden layers of 64 and 32 neurons, respectively, and an output layer with a single neuron for binary classification. \n",
    "- The relu activation function is used for the hidden layers, and the sigmoid activation function is used for the output layer.\n",
    "- The model is compiled using the Adam optimizer, binary cross-entropy loss, and accuracy as the evaluation metric. \n",
    "- The model is trained for 10 epochs with a batch size of 32."
   ]
  },
  {
   "cell_type": "code",
   "execution_count": 37,
   "metadata": {
    "colab": {
     "base_uri": "https://localhost:8080/"
    },
    "id": "19exhkvu1-A2",
    "outputId": "ff6a7bf4-45a8-4211-9708-1576beac5d94"
   },
   "outputs": [
    {
     "name": "stdout",
     "output_type": "stream",
     "text": [
      "Epoch 1/5\n",
      "18260/18260 [==============================] - 72s 4ms/step - loss: 46.8093 - accuracy: 0.5234\n",
      "Epoch 2/5\n",
      "18260/18260 [==============================] - 67s 4ms/step - loss: 1.9168 - accuracy: 0.5642\n",
      "Epoch 3/5\n",
      "18260/18260 [==============================] - 68s 4ms/step - loss: 0.6736 - accuracy: 0.5995\n",
      "Epoch 4/5\n",
      "18260/18260 [==============================] - 67s 4ms/step - loss: 0.6736 - accuracy: 0.5995\n",
      "Epoch 5/5\n",
      "18260/18260 [==============================] - 68s 4ms/step - loss: 0.6733 - accuracy: 0.5995\n",
      "3913/3913 [==============================] - 10s 3ms/step - loss: 0.6734 - accuracy: 0.5993\n",
      "Test accuracy: 0.5993099808692932\n"
     ]
    }
   ],
   "source": [
    "from tensorflow.keras.models import Sequential\n",
    "from tensorflow.keras.layers import Dense\n",
    "\n",
    "# Define the neural network model\n",
    "model = Sequential()\n",
    "model.add(Dense(64, activation='relu', input_shape=(X_train.shape[1],)))\n",
    "model.add(Dense(32, activation='relu'))\n",
    "model.add(Dense(1, activation='sigmoid'))\n",
    "\n",
    "# Compile the model\n",
    "model.compile(optimizer='adam', loss='binary_crossentropy', metrics=['accuracy'])\n",
    "\n",
    "# Train the model on the training set\n",
    "model.fit(X_train, y_train, epochs=5, batch_size=32)\n",
    "\n",
    "# Evaluate the model on the testing set\n",
    "test_loss, test_accuracy = model.evaluate(X_test, y_test)\n",
    "print(\"Test accuracy:\", test_accuracy)"
   ]
  },
  {
   "cell_type": "markdown",
   "metadata": {},
   "source": [
    "The model's performace is evaluated using various metrics and plots of the learning curves for both accuracy and loss are generated."
   ]
  },
  {
   "cell_type": "code",
   "execution_count": 38,
   "metadata": {
    "colab": {
     "base_uri": "https://localhost:8080/"
    },
    "id": "311jEQVs2APG",
    "outputId": "d7e163c8-717a-49cd-fc79-d46c5e9c18d5"
   },
   "outputs": [
    {
     "name": "stdout",
     "output_type": "stream",
     "text": [
      "3913/3913 [==============================] - 6s 2ms/step\n",
      "Accuracy: 0.40069004624268223\n",
      "Precision: 0.0\n",
      "Recall: 0.0\n",
      "F1-score: 0.0\n"
     ]
    }
   ],
   "source": [
    "# Evaluate model performance\n",
    "y_pred = model.predict(X_test)\n",
    "y_pred_classes = np.argmax(y_pred, axis=1)\n",
    "\n",
    "accuracy = accuracy_score(y_test, y_pred_classes)\n",
    "precision = precision_score(y_test, y_pred_classes)\n",
    "recall = recall_score(y_test, y_pred_classes)\n",
    "f1 = f1_score(y_test, y_pred_classes)\n",
    "\n",
    "print(\"Accuracy:\", accuracy)\n",
    "print(\"Precision:\", precision)\n",
    "print(\"Recall:\", recall)\n",
    "print(\"F1-score:\", f1)"
   ]
  },
  {
   "cell_type": "code",
   "execution_count": 39,
   "metadata": {
    "colab": {
     "base_uri": "https://localhost:8080/"
    },
    "id": "GtPe0h435GfX",
    "outputId": "33a3f43b-7fea-43a1-dbbb-503d4b0c4e58"
   },
   "outputs": [
    {
     "name": "stdout",
     "output_type": "stream",
     "text": [
      "[[50170     0]\n",
      " [75039     0]]\n"
     ]
    }
   ],
   "source": [
    "# Analyze confusion matrix\n",
    "cm = confusion_matrix(y_test, y_pred_classes)\n",
    "print(cm)"
   ]
  },
  {
   "cell_type": "code",
   "execution_count": 40,
   "metadata": {
    "colab": {
     "base_uri": "https://localhost:8080/",
     "height": 1000
    },
    "id": "H9usEGJ-5JI2",
    "outputId": "d1df6f30-5925-4ddb-d721-6cd7cd613f1d"
   },
   "outputs": [
    {
     "name": "stdout",
     "output_type": "stream",
     "text": [
      "Epoch 1/10\n",
      "14608/14608 [==============================] - 63s 4ms/step - loss: 0.6733 - accuracy: 0.5995 - val_loss: 0.6734 - val_accuracy: 0.5993\n",
      "Epoch 2/10\n",
      "14608/14608 [==============================] - 66s 4ms/step - loss: 0.6733 - accuracy: 0.5995 - val_loss: 0.6733 - val_accuracy: 0.5993\n",
      "Epoch 3/10\n",
      "14608/14608 [==============================] - 66s 4ms/step - loss: 0.6732 - accuracy: 0.5995 - val_loss: 0.6733 - val_accuracy: 0.5993\n",
      "Epoch 4/10\n",
      "14608/14608 [==============================] - 64s 4ms/step - loss: 0.6733 - accuracy: 0.5995 - val_loss: 0.6733 - val_accuracy: 0.5993\n",
      "Epoch 5/10\n",
      "14608/14608 [==============================] - 65s 4ms/step - loss: 0.6732 - accuracy: 0.5995 - val_loss: 0.6733 - val_accuracy: 0.5993\n",
      "Epoch 6/10\n",
      "14608/14608 [==============================] - 67s 5ms/step - loss: 0.6732 - accuracy: 0.5995 - val_loss: 0.6733 - val_accuracy: 0.5993\n",
      "Epoch 7/10\n",
      "14608/14608 [==============================] - 63s 4ms/step - loss: 0.6732 - accuracy: 0.5995 - val_loss: 0.6734 - val_accuracy: 0.5993\n",
      "Epoch 8/10\n",
      "14608/14608 [==============================] - 62s 4ms/step - loss: 0.6732 - accuracy: 0.5995 - val_loss: 0.6734 - val_accuracy: 0.5993\n",
      "Epoch 9/10\n",
      "14608/14608 [==============================] - 66s 5ms/step - loss: 0.6733 - accuracy: 0.5995 - val_loss: 0.6733 - val_accuracy: 0.5993\n",
      "Epoch 10/10\n",
      "14608/14608 [==============================] - 65s 4ms/step - loss: 0.6733 - accuracy: 0.5995 - val_loss: 0.6733 - val_accuracy: 0.5993\n"
     ]
    },
    {
     "data": {
      "image/png": "[encoded data removed]",
      "text/plain": [
       "<Figure size 640x480 with 1 Axes>"
      ]
     },
     "metadata": {},
     "output_type": "display_data"
    },
    {
     "data": {
      "image/png": "[encoded data removed]",
      "text/plain": [
       "<Figure size 640x480 with 1 Axes>"
      ]
     },
     "metadata": {},
     "output_type": "display_data"
    }
   ],
   "source": [
    "# Examine learning curves\n",
    "history = model.fit(X_train, y_train, epochs=10, batch_size=32, validation_split=0.2)\n",
    "\n",
    "plt.plot(history.history['accuracy'])\n",
    "plt.plot(history.history['val_accuracy'])\n",
    "plt.title('Model Accuracy')\n",
    "plt.ylabel('Accuracy')\n",
    "plt.xlabel('Epoch')\n",
    "plt.legend(['Train', 'Val'], loc='upper left')\n",
    "plt.show()\n",
    "\n",
    "plt.plot(history.history['loss'])\n",
    "plt.plot(history.history['val_loss'])\n",
    "plt.title('Model Loss')\n",
    "plt.ylabel('Loss')\n",
    "plt.xlabel('Epoch')\n",
    "plt.legend(['Train', 'Val'], loc='upper left')\n",
    "plt.show()"
   ]
  },
  {
   "cell_type": "markdown",
   "metadata": {
    "id": "sJg8-whTLS4Y"
   },
   "source": [
    "## Random Forest"
   ]
  },
  {
   "cell_type": "markdown",
   "metadata": {
    "id": "PNXaQPsBLeer"
   },
   "source": [
    "First fitting on default settings"
   ]
  },
  {
   "cell_type": "code",
   "execution_count": 47,
   "metadata": {
    "id": "WkXPC8RRLSZI"
   },
   "outputs": [],
   "source": [
    "FOREST = RandomForestClassifier()\n",
    "FOREST.fit(X_train, y_train)\n",
    "\n",
    "y_pred = FOREST.predict(X_test)"
   ]
  },
  {
   "cell_type": "code",
   "execution_count": 48,
   "metadata": {
    "colab": {
     "base_uri": "https://localhost:8080/",
     "height": 807
    },
    "id": "3GW5HuCzLfUp",
    "outputId": "4cb1bf9b-0228-427b-a642-9793eb669e33"
   },
   "outputs": [
    {
     "name": "stdout",
     "output_type": "stream",
     "text": [
      "Accuracy: 0.84\n",
      "Confusion Matrix:\n",
      "[[36736 13434]\n",
      " [ 6711 68328]]\n",
      "Classification Report:\n",
      "              precision    recall  f1-score   support\n",
      "\n",
      "           0       0.85      0.73      0.78     50170\n",
      "           1       0.84      0.91      0.87     75039\n",
      "\n",
      "    accuracy                           0.84    125209\n",
      "   macro avg       0.84      0.82      0.83    125209\n",
      "weighted avg       0.84      0.84      0.84    125209\n",
      "\n"
     ]
    },
    {
     "data": {
      "image/png": "[encoded data removed]",
      "text/plain": [
       "<Figure size 800x600 with 1 Axes>"
      ]
     },
     "metadata": {},
     "output_type": "display_data"
    }
   ],
   "source": [
    "accuracy = accuracy_score(y_true=y_test, y_pred=y_pred)\n",
    "confusion = confusion_matrix(y_test, y_pred)\n",
    "class_report = classification_report(y_test, y_pred)\n",
    "\n",
    "print(f\"Accuracy: {accuracy:.2f}\")\n",
    "print(\"Confusion Matrix:\")\n",
    "print(confusion)\n",
    "print(\"Classification Report:\")\n",
    "print(class_report)\n",
    "\n",
    "plt.figure(figsize=(8, 6))\n",
    "sns.heatmap(confusion, annot=True, fmt=\"d\", cmap=\"Blues\", cbar=False,\n",
    "            xticklabels=FOREST.classes_, yticklabels=FOREST.classes_)\n",
    "plt.xlabel('Predicted')\n",
    "plt.ylabel('True')\n",
    "plt.title('Confusion Matrix')\n",
    "plt.show()"
   ]
  },
  {
   "cell_type": "markdown",
   "metadata": {},
   "source": [
    "#### Random Forest Grid Search Hyper parameter tuning"
   ]
  },
  {
   "cell_type": "code",
   "execution_count": null,
   "metadata": {
    "id": "G36TSPKMMc1E"
   },
   "outputs": [],
   "source": [
    "param_grid = {\n",
    "    'n_estimators': [50, 100, 150],\n",
    "    'max_depth': [None, 10, 20, 30],\n",
    "    'min_samples_split': [2, 5, 10],\n",
    "    'min_samples_leaf': [1, 2, 4],\n",
    "    'max_features': ['auto', 'sqrt'],\n",
    "    'bootstrap': [True, False]\n",
    "}"
   ]
  }
 ],
 "metadata": {
  "accelerator": "GPU",
  "colab": {
   "gpuType": "T4",
   "provenance": []
  },
  "kernelspec": {
   "display_name": "Python 3 (ipykernel)",
   "language": "python",
   "name": "python3"
  },
  "language_info": {
   "codemirror_mode": {
    "name": "ipython",
    "version": 3
   },
   "file_extension": ".py",
   "mimetype": "text/x-python",
   "name": "python",
   "nbconvert_exporter": "python",
   "pygments_lexer": "ipython3",
   "version": "3.11.4"
  }
 },
 "nbformat": 4,
 "nbformat_minor": 1
}
